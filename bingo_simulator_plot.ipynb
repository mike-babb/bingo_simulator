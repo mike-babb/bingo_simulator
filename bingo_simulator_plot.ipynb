{
 "cells": [
  {
   "cell_type": "code",
   "execution_count": 9,
   "metadata": {},
   "outputs": [],
   "source": [
    "# mike babb\n",
    "# 2025 02 26\n",
    "# simulate bingo"
   ]
  },
  {
   "cell_type": "code",
   "execution_count": 10,
   "metadata": {},
   "outputs": [],
   "source": [
    "# standard\n",
    "import os"
   ]
  },
  {
   "cell_type": "code",
   "execution_count": 11,
   "metadata": {},
   "outputs": [],
   "source": [
    "import numpy as np\n",
    "import pandas as pd\n",
    "import seaborn as sns\n",
    "import matplotlib.pyplot as plt\n",
    "import matplotlib as mpl\n",
    "\n",
    "sns.set_theme(style=\"ticks\")"
   ]
  },
  {
   "cell_type": "code",
   "execution_count": 12,
   "metadata": {},
   "outputs": [],
   "source": [
    "# the typical bingo grid is 25 squares (24 playable, 1 free play)"
   ]
  },
  {
   "cell_type": "code",
   "execution_count": 13,
   "metadata": {},
   "outputs": [],
   "source": [
    "input_file_path = 'H:/project/bingo_simulator/data/'"
   ]
  },
  {
   "cell_type": "code",
   "execution_count": 14,
   "metadata": {},
   "outputs": [],
   "source": [
    "file_list = os.listdir(path = input_file_path)\n",
    "plot_output_path = 'H:/git/bingo_simulator/print'\n",
    "if not os.path.exists(plot_output_path):\n",
    "    os.makedirs(plot_output_path)\n",
    "\n",
    "card_part_dict = {0:'row',\n",
    "                  1:'column',\n",
    "                  2:'diagonal',\n",
    "                  3:'diagonal'}"
   ]
  },
  {
   "cell_type": "code",
   "execution_count": 15,
   "metadata": {},
   "outputs": [
    {
     "name": "stdout",
     "output_type": "stream",
     "text": [
      "bingo_sim_010000_000_.csv\n",
      "43.0\n",
      "bingo_sim_010000_025_.csv\n",
      "15.0\n",
      "bingo_sim_010000_026_.csv\n",
      "15.0\n",
      "bingo_sim_010000_027_.csv\n",
      "16.0\n",
      "bingo_sim_010000_028_.csv\n",
      "16.0\n",
      "bingo_sim_010000_029_.csv\n",
      "17.0\n",
      "bingo_sim_010000_030_.csv\n",
      "17.0\n",
      "bingo_sim_010000_031_.csv\n",
      "18.0\n",
      "bingo_sim_010000_032_.csv\n",
      "19.0\n",
      "bingo_sim_010000_033_.csv\n",
      "19.0\n",
      "bingo_sim_010000_034_.csv\n",
      "20.0\n",
      "bingo_sim_010000_035_.csv\n",
      "20.0\n",
      "bingo_sim_010000_036_.csv\n",
      "21.0\n",
      "bingo_sim_010000_037_.csv\n",
      "21.0\n",
      "bingo_sim_010000_038_.csv\n",
      "22.0\n",
      "bingo_sim_010000_039_.csv\n",
      "22.0\n",
      "bingo_sim_010000_040_.csv\n",
      "23.0\n",
      "bingo_sim_010000_041_.csv\n",
      "24.0\n",
      "bingo_sim_010000_042_.csv\n",
      "24.0\n",
      "bingo_sim_010000_043_.csv\n",
      "25.0\n",
      "bingo_sim_010000_044_.csv\n",
      "25.0\n",
      "bingo_sim_010000_045_.csv\n",
      "26.0\n",
      "bingo_sim_010000_046_.csv\n",
      "26.0\n",
      "bingo_sim_010000_047_.csv\n",
      "27.0\n",
      "bingo_sim_010000_048_.csv\n",
      "27.0\n",
      "bingo_sim_010000_049_.csv\n",
      "28.0\n",
      "bingo_sim_010000_050_.csv\n",
      "28.0\n",
      "bingo_sim_100000_000_.csv\n",
      "44.0\n"
     ]
    }
   ],
   "source": [
    "for fn in file_list:\n",
    "    print(fn)\n",
    "    fpn = os.path.join(input_file_path, fn)\n",
    "    df = pd.read_csv(filepath_or_buffer=fpn, sep = '\\t')\n",
    "    df['card_part_desc'] = df['card_part'].map(card_part_dict)\n",
    "    df = df.sort_values(by = ['card_part_desc'])\n",
    "    #    df.head()\n",
    "    # make the plot\n",
    "\n",
    "    f, ax = plt.subplots(figsize=(20, 5))\n",
    "    sns.despine(f)\n",
    "\n",
    "    my_plot = sns.histplot(\n",
    "        data = df,\n",
    "        x=\"n_draws\", hue=\"card_part_desc\",\n",
    "        multiple=\"stack\",\n",
    "        palette=\"Dark2\",\n",
    "        edgecolor=\".3\",\n",
    "        discrete = True,\n",
    "        linewidth=.5,\n",
    "        cumulative=True,\n",
    "        kde=True\n",
    "    )\n",
    "\n",
    "    title_parts = fn.split('_')\n",
    "    n_trials = int(title_parts[2])\n",
    "    n_samples = int(title_parts[3])\n",
    "    my_title = f'Number of trials: {n_trials} | number of samples: {n_samples}'\n",
    "\n",
    "    per_50 = np.quantile(a = df['n_draws'], q = .5)\n",
    "    print(per_50)\n",
    "    per_90 = np.quantile(a = df['n_draws'], q = .9)\n",
    "    per_95 = np.quantile(a = df['n_draws'], q = .95)\n",
    "\n",
    "    y_max = ax.get_ylim()[1] * .95\n",
    "\n",
    "    my_plot.vlines(x = per_50, ymin = 0, ymax = y_max, color = 'red', linestyles = 'dashdot')\n",
    "    my_plot.vlines(x = per_90, ymin = 0, ymax = y_max, color = 'red', linestyles = 'dashdot')\n",
    "    my_plot.vlines(x = per_95, ymin = 0, ymax = y_max, color = 'red', linestyles = 'dashdot')\n",
    "\n",
    "    plt.title(label = my_title)\n",
    "    x_ticks = range(df['n_draws'].min(), df['n_draws'].max() + 1)\n",
    "    ax.set_xticks(x_ticks)\n",
    "\n",
    "    output_file_name = fn.replace('csv', 'png')\n",
    "    ofpn = os.path.join(plot_output_path, output_file_name)\n",
    "\n",
    "    my_plot.get_figure().savefig(fname = ofpn)\n",
    "    plt.close()"
   ]
  },
  {
   "cell_type": "code",
   "execution_count": 16,
   "metadata": {},
   "outputs": [
    {
     "data": {
      "text/plain": [
       "count    108457.000000\n",
       "mean         43.126280\n",
       "std          10.012784\n",
       "min           7.000000\n",
       "25%          36.000000\n",
       "50%          44.000000\n",
       "75%          50.000000\n",
       "max          72.000000\n",
       "Name: n_draws, dtype: float64"
      ]
     },
     "execution_count": 16,
     "metadata": {},
     "output_type": "execute_result"
    }
   ],
   "source": [
    "df['n_draws'].describe()"
   ]
  }
 ],
 "metadata": {
  "kernelspec": {
   "display_name": "analysis",
   "language": "python",
   "name": "python3"
  },
  "language_info": {
   "codemirror_mode": {
    "name": "ipython",
    "version": 3
   },
   "file_extension": ".py",
   "mimetype": "text/x-python",
   "name": "python",
   "nbconvert_exporter": "python",
   "pygments_lexer": "ipython3",
   "version": "3.12.7"
  }
 },
 "nbformat": 4,
 "nbformat_minor": 2
}
