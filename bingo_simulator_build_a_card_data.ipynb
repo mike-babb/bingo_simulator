{
 "cells": [
  {
   "cell_type": "code",
   "execution_count": null,
   "metadata": {},
   "outputs": [],
   "source": [
    "# mike babb\n",
    "# 2025 02 26\n",
    "# simulate bingo"
   ]
  },
  {
   "cell_type": "code",
   "execution_count": null,
   "metadata": {},
   "outputs": [],
   "source": [
    "# standard\n",
    "import os"
   ]
  },
  {
   "cell_type": "code",
   "execution_count": null,
   "metadata": {},
   "outputs": [],
   "source": [
    "import numpy as np\n",
    "import pandas as pd\n",
    "import seaborn as sns\n",
    "import matplotlib.pyplot as plt\n",
    "import matplotlib as mpl\n",
    "\n",
    "sns.set_theme(style=\"ticks\")\n"
   ]
  },
  {
   "cell_type": "code",
   "execution_count": null,
   "metadata": {},
   "outputs": [],
   "source": [
    "# the typical bingo grid is 25 squares (24 playable, 1 free play)"
   ]
  },
  {
   "cell_type": "code",
   "execution_count": null,
   "metadata": {},
   "outputs": [],
   "source": [
    "def get_array_length(arr1:np.array, arr2:np.array):\n",
    "    return len(set(arr1).intersection(arr2))"
   ]
  },
  {
   "cell_type": "code",
   "execution_count": null,
   "metadata": {},
   "outputs": [],
   "source": [
    "def do_a_bingo_run(n_samples:int, n_trials:str, output_file_path:str):\n",
    "    trial_list = []\n",
    "    for nt in range(0, n_trials + 1):        \n",
    "\n",
    "        # build the board\n",
    "        numbers = list(range(1, n_samples + 1))\n",
    "        # shuffle the numbers\n",
    "        np.random.shuffle(numbers)\n",
    "        # draw 24 numbers, insert 0 into the center, reshape the board to be a 5,5 matrix\n",
    "        # this is the bingo board\n",
    "        bb = np.insert(arr = np.array(numbers[:24]), obj = 12, values = 0).reshape(5,5)\n",
    "        \n",
    "        # shuffle the full list of numbers again to simulate drawing\n",
    "        np.random.shuffle(numbers)\n",
    "        numbers = np.insert(arr = numbers, obj = 0, values = 0)\n",
    "\n",
    "        # free-play / 0 square is always already drawn        \n",
    "        keep_drawing = True \n",
    "        # start counting\n",
    "        i_nn = 1\n",
    "        while keep_drawing:\n",
    "            curr_list = numbers[:i_nn]\n",
    "            # create a list of numbers drawn\n",
    "                  \n",
    "            # check horizontal and vertical slices\n",
    "            for my_index in range(0, 5):        \n",
    "                # rows        \n",
    "                if get_array_length(arr1=bb[my_index, :], arr2=curr_list) >= 5:\n",
    "                    trial_list.append([nt, i_nn, 0, my_index])\n",
    "                    keep_drawing = False                \n",
    "                # columns\n",
    "                if get_array_length(arr1=bb[:, my_index], arr2=curr_list) >= 5:\n",
    "                    trial_list.append([nt, i_nn, 1, my_index])\n",
    "                    keep_drawing = False                \n",
    "            # diagonal\n",
    "            if get_array_length(arr1=bb.diagonal(), arr2=curr_list) >= 5:\n",
    "                trial_list.append([nt, i_nn, 2, 1])\n",
    "                keep_drawing = False\n",
    "                \n",
    "            # off diagonal\n",
    "            if get_array_length(arr1=np.fliplr(m = bb).diagonal(), arr2=curr_list) >= 5:\n",
    "                trial_list.append([nt, i_nn, 2, 2])\n",
    "                keep_drawing = False\n",
    "            i_nn += 1\n",
    "\n",
    "    columns = ['trial_number', 'n_draws', 'card_part', 'idx']\n",
    "    outcome = pd.DataFrame(data = trial_list, columns = columns)\n",
    "    # subtract one to account for the first few draws where it's impossible\n",
    "    # to get a bingo\n",
    "    outcome['n_draws'] = outcome['n_draws'] - 1\n",
    "    \n",
    "    print(outcome['n_draws'].min())\n",
    "\n",
    "    output_file_name = f'bingo_sim_{str(n_trials).zfill(6)}_{str(n_samples).zfill(3)}_.csv'\n",
    "    ofpn = os.path.join(output_file_path, output_file_name)\n",
    "    outcome.to_csv(path_or_buf= ofpn, sep = '\\t', index = False)\n",
    "\n",
    "    return outcome"
   ]
  },
  {
   "cell_type": "code",
   "execution_count": null,
   "metadata": {},
   "outputs": [],
   "source": [
    "output_file_path = 'H:/project/bingo_simulator/data/'\n",
    "n_trials = 10000\n",
    "for ns in range(25, 51):\n",
    "    print(ns)\n",
    "    df = do_a_bingo_run(n_samples = ns, n_trials = n_trials, output_file_path = output_file_path)"
   ]
  },
  {
   "cell_type": "code",
   "execution_count": null,
   "metadata": {},
   "outputs": [],
   "source": [
    "df['card_part'].value_counts()"
   ]
  },
  {
   "cell_type": "code",
   "execution_count": null,
   "metadata": {},
   "outputs": [],
   "source": []
  }
 ],
 "metadata": {
  "kernelspec": {
   "display_name": "analysis",
   "language": "python",
   "name": "python3"
  },
  "language_info": {
   "codemirror_mode": {
    "name": "ipython",
    "version": 3
   },
   "file_extension": ".py",
   "mimetype": "text/x-python",
   "name": "python",
   "nbconvert_exporter": "python",
   "pygments_lexer": "ipython3",
   "version": "3.12.7"
  }
 },
 "nbformat": 4,
 "nbformat_minor": 2
}
