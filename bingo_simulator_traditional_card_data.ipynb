{
 "cells": [
  {
   "cell_type": "code",
   "execution_count": 1,
   "metadata": {},
   "outputs": [],
   "source": [
    "import os"
   ]
  },
  {
   "cell_type": "code",
   "execution_count": 2,
   "metadata": {},
   "outputs": [],
   "source": [
    "import pandas as pd\n",
    "import numpy as np"
   ]
  },
  {
   "cell_type": "code",
   "execution_count": 3,
   "metadata": {},
   "outputs": [],
   "source": [
    "def generate_bingo_board():\n",
    "    \n",
    "    b_nums = np.random.choice(a = list(range(1, 16)), size = 5, replace = False)\n",
    "    \n",
    "    i_nums = np.random.choice(a = list(range(15, 31)), size = 5, replace = False)    \n",
    "    \n",
    "    n_nums = np.random.choice(a = list(range(30, 46)), size = 4, replace = False)\n",
    "    n_nums = np.insert(arr = n_nums, obj = 2, values = 0)    \n",
    "    \n",
    "    g_nums = np.random.choice(a = list(range(45, 61)), size = 5, replace = False)\n",
    "    \n",
    "    o_nums = np.random.choice(a = list(range(60, 76)), size = 5, replace = False)\n",
    "    \n",
    "    bb = np.zeros(shape = (5, 5), dtype=int)\n",
    "    bb[:, 0] = b_nums\n",
    "    bb[:, 1] = i_nums\n",
    "    bb[:, 2] = n_nums\n",
    "    bb[:, 3] = g_nums\n",
    "    bb[:, 4] = o_nums\n",
    "\n",
    "    return bb\n",
    "\n"
   ]
  },
  {
   "cell_type": "code",
   "execution_count": 4,
   "metadata": {},
   "outputs": [],
   "source": [
    "draw_numbers = np.random.choice(a = list(range(0, 76)), size = 75, replace = False)"
   ]
  },
  {
   "cell_type": "code",
   "execution_count": 5,
   "metadata": {},
   "outputs": [],
   "source": [
    "def get_array_length(arr1:np.array, arr2:np.array):\n",
    "    return len(set(arr1).intersection(arr2))"
   ]
  },
  {
   "cell_type": "code",
   "execution_count": null,
   "metadata": {},
   "outputs": [],
   "source": [
    "trial_list = []\n",
    "n_trials = 10000\n",
    "n_samples = 0\n",
    "for nt in range(0, n_trials):\n",
    "\n",
    "    bb = generate_bingo_board()\n",
    "    draw_numbers = np.random.choice(a = list(range(1, 76)), size = 75, replace = False)\n",
    "    draw_numbers = np.insert(arr = draw_numbers, obj = 0, values = 0)\n",
    "\n",
    "    keep_drawing = True\n",
    "    i_nn = 1\n",
    "\n",
    "    while keep_drawing:\n",
    "        # current list of numbers that represents the values drawn\n",
    "        curr_list = draw_numbers[:i_nn]    \n",
    "        # check horizontal and vertical slices\n",
    "        for my_index in range(0, 5):        \n",
    "            # rows        \n",
    "            if get_array_length(arr1=bb[my_index, :], arr2=curr_list) >= 5:\n",
    "                trial_list.append([nt, i_nn, 0, my_index])\n",
    "                keep_drawing = False                \n",
    "            # columns\n",
    "            if get_array_length(arr1=bb[:, my_index], arr2=curr_list) >= 5:\n",
    "                trial_list.append([nt, i_nn, 1, my_index])\n",
    "                keep_drawing = False                \n",
    "        # diagonal\n",
    "        if get_array_length(arr1=bb.diagonal(), arr2=curr_list) >= 5:\n",
    "            trial_list.append([nt, i_nn, 2, 1])\n",
    "            keep_drawing = False\n",
    "            \n",
    "        # off diagonal\n",
    "        if get_array_length(arr1=np.fliplr(m = bb).diagonal(), arr2=curr_list) >= 5:\n",
    "            trial_list.append([nt, i_nn, 3, 2])\n",
    "            keep_drawing = False\n",
    "        \n",
    "        i_nn += 1\n",
    "        \n",
    "    "
   ]
  },
  {
   "cell_type": "code",
   "execution_count": 15,
   "metadata": {},
   "outputs": [
    {
     "data": {
      "text/plain": [
       "array([ 0, 21, 67, 37, 23])"
      ]
     },
     "execution_count": 15,
     "metadata": {},
     "output_type": "execute_result"
    }
   ],
   "source": [
    "draw_numbers[:5]"
   ]
  },
  {
   "cell_type": "code",
   "execution_count": null,
   "metadata": {},
   "outputs": [],
   "source": []
  },
  {
   "cell_type": "code",
   "execution_count": 7,
   "metadata": {},
   "outputs": [
    {
     "data": {
      "text/plain": [
       "10823"
      ]
     },
     "execution_count": 7,
     "metadata": {},
     "output_type": "execute_result"
    }
   ],
   "source": [
    "len(trial_list)"
   ]
  },
  {
   "cell_type": "code",
   "execution_count": null,
   "metadata": {},
   "outputs": [
    {
     "data": {
      "text/plain": [
       "(10823, 4)"
      ]
     },
     "execution_count": 16,
     "metadata": {},
     "output_type": "execute_result"
    }
   ],
   "source": [
    "columns = ['trial_number', 'n_draws', 'card_part', 'idx']\n",
    "outcome = pd.DataFrame(data = trial_list, columns = columns)\n",
    "# add one to the n_draws to account for the free-space of zero\n",
    "outcome['n_draws'] = outcome['n_draws'] - 1\n",
    "print(outcome['n_draws'].min())\n",
    "outcome.shape\n"
   ]
  },
  {
   "cell_type": "code",
   "execution_count": 17,
   "metadata": {},
   "outputs": [
    {
     "data": {
      "text/html": [
       "<div>\n",
       "<style scoped>\n",
       "    .dataframe tbody tr th:only-of-type {\n",
       "        vertical-align: middle;\n",
       "    }\n",
       "\n",
       "    .dataframe tbody tr th {\n",
       "        vertical-align: top;\n",
       "    }\n",
       "\n",
       "    .dataframe thead th {\n",
       "        text-align: right;\n",
       "    }\n",
       "</style>\n",
       "<table border=\"1\" class=\"dataframe\">\n",
       "  <thead>\n",
       "    <tr style=\"text-align: right;\">\n",
       "      <th></th>\n",
       "      <th>trial_number</th>\n",
       "      <th>n_draws</th>\n",
       "      <th>card_part</th>\n",
       "      <th>idx</th>\n",
       "    </tr>\n",
       "  </thead>\n",
       "  <tbody>\n",
       "    <tr>\n",
       "      <th>0</th>\n",
       "      <td>0</td>\n",
       "      <td>49</td>\n",
       "      <td>1</td>\n",
       "      <td>3</td>\n",
       "    </tr>\n",
       "    <tr>\n",
       "      <th>1</th>\n",
       "      <td>1</td>\n",
       "      <td>27</td>\n",
       "      <td>1</td>\n",
       "      <td>3</td>\n",
       "    </tr>\n",
       "    <tr>\n",
       "      <th>2</th>\n",
       "      <td>2</td>\n",
       "      <td>31</td>\n",
       "      <td>2</td>\n",
       "      <td>1</td>\n",
       "    </tr>\n",
       "    <tr>\n",
       "      <th>3</th>\n",
       "      <td>3</td>\n",
       "      <td>29</td>\n",
       "      <td>1</td>\n",
       "      <td>2</td>\n",
       "    </tr>\n",
       "    <tr>\n",
       "      <th>4</th>\n",
       "      <td>4</td>\n",
       "      <td>34</td>\n",
       "      <td>0</td>\n",
       "      <td>2</td>\n",
       "    </tr>\n",
       "  </tbody>\n",
       "</table>\n",
       "</div>"
      ],
      "text/plain": [
       "   trial_number  n_draws  card_part  idx\n",
       "0             0       49          1    3\n",
       "1             1       27          1    3\n",
       "2             2       31          2    1\n",
       "3             3       29          1    2\n",
       "4             4       34          0    2"
      ]
     },
     "execution_count": 17,
     "metadata": {},
     "output_type": "execute_result"
    }
   ],
   "source": [
    "outcome.head()"
   ]
  },
  {
   "cell_type": "code",
   "execution_count": 18,
   "metadata": {},
   "outputs": [
    {
     "data": {
      "text/plain": [
       "count    10823.000000\n",
       "mean        39.172965\n",
       "std          9.904918\n",
       "min          4.000000\n",
       "25%         33.000000\n",
       "50%         40.000000\n",
       "75%         46.000000\n",
       "max         66.000000\n",
       "Name: n_draws, dtype: float64"
      ]
     },
     "execution_count": 18,
     "metadata": {},
     "output_type": "execute_result"
    }
   ],
   "source": [
    "outcome['n_draws'].describe()"
   ]
  },
  {
   "cell_type": "code",
   "execution_count": 20,
   "metadata": {},
   "outputs": [],
   "source": [
    "\n",
    "output_file_path = 'H:/project/bingo_simulator/data/'\n",
    "output_file_name = f'bingo_sim_{str(n_trials).zfill(6)}_{str(n_samples).zfill(3)}_.csv'\n",
    "ofpn = os.path.join(output_file_path, output_file_name)\n",
    "outcome.to_csv(path_or_buf= ofpn, sep = '\\t', index = False)\n"
   ]
  },
  {
   "cell_type": "code",
   "execution_count": 13,
   "metadata": {},
   "outputs": [
    {
     "data": {
      "text/plain": [
       "'H:/project/bingo_simulator/data/bingo_sim_010000_000_.csv'"
      ]
     },
     "execution_count": 13,
     "metadata": {},
     "output_type": "execute_result"
    }
   ],
   "source": [
    "ofpn"
   ]
  },
  {
   "cell_type": "code",
   "execution_count": null,
   "metadata": {},
   "outputs": [],
   "source": []
  }
 ],
 "metadata": {
  "kernelspec": {
   "display_name": "analysis",
   "language": "python",
   "name": "python3"
  },
  "language_info": {
   "codemirror_mode": {
    "name": "ipython",
    "version": 3
   },
   "file_extension": ".py",
   "mimetype": "text/x-python",
   "name": "python",
   "nbconvert_exporter": "python",
   "pygments_lexer": "ipython3",
   "version": "3.12.7"
  }
 },
 "nbformat": 4,
 "nbformat_minor": 2
}
